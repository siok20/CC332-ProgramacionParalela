{
 "cells": [
  {
   "cell_type": "code",
   "execution_count": 9,
   "metadata": {},
   "outputs": [],
   "source": [
    "import multiprocessing as mp"
   ]
  },
  {
   "cell_type": "code",
   "execution_count": 2,
   "metadata": {},
   "outputs": [
    {
     "name": "stdout",
     "output_type": "stream",
     "text": [
      "Number of cpu: 8\n"
     ]
    }
   ],
   "source": [
    "print(f\"Number of cpu: {mp.cpu_count()}\")"
   ]
  },
  {
   "cell_type": "code",
   "execution_count": 7,
   "metadata": {},
   "outputs": [],
   "source": [
    "import numpy as np\n",
    "import time\n",
    "def random_square(seed):\n",
    "    np.random.seed(seed)\n",
    "    random_num = np.random.randint(0, 10)\n",
    "    return random_num**2"
   ]
  },
  {
   "cell_type": "code",
   "execution_count": 7,
   "metadata": {},
   "outputs": [
    {
     "name": "stdout",
     "output_type": "stream",
     "text": [
      "Execution time 167.13982343673706 s\n"
     ]
    }
   ],
   "source": [
    "t0 = time.time()\n",
    "results = []\n",
    "\n",
    "for i in range(10000000):\n",
    "    results.append(random_square(i))\n",
    "    \n",
    "t1 = time.time()\n",
    "\n",
    "print(f\"Execution time {t1 - t0} s\")"
   ]
  },
  {
   "cell_type": "code",
   "execution_count": 8,
   "metadata": {},
   "outputs": [],
   "source": [
    "t0 = time.time()\n",
    "n_cpu = mp.cpu_count()\n",
    "pool = mp.Pool(processes=n_cpu)\n",
    "results = [pool.map(random_square, range(10000000))]\n",
    "t1 = time.time()\n",
    "print(f\"Execution time {t1 - t0} s\")"
   ]
  },
  {
   "cell_type": "code",
   "execution_count": 5,
   "metadata": {},
   "outputs": [],
   "source": [
    "import matplotlib.pyplot as plt\n",
    "def serial(n):\n",
    "    t0 = time.time()\n",
    "    results = []\n",
    "    for i in range(n):\n",
    "        results.append(random_square(i))\n",
    "    t1 = time.time()\n",
    "    exec_time = t1 - t0\n",
    "    return exec_time\n",
    "\n",
    "def parallel(n):\n",
    "    t0 = time.time()\n",
    "    n_cpu = mp.cpu_count()\n",
    "    pool = mp.Pool(processes=n_cpu)\n",
    "    results = [pool.map(random_square, range(n))]\n",
    "    t1 = time.time()\n",
    "    exec_time = t1 - t0\n",
    "    return exec_time"
   ]
  },
  {
   "cell_type": "code",
   "execution_count": 10,
   "metadata": {},
   "outputs": [],
   "source": [
    "n_run = np.logspace(1, 7, num = 7)\n",
    "t_serial = [serial(int(n)) for n in n_run]\n",
    "t_parallel = [parallel(int(n)) for n in n_run]"
   ]
  },
  {
   "cell_type": "code",
   "execution_count": null,
   "metadata": {},
   "outputs": [],
   "source": [
    "plt.figure(figsize = (10, 6))\n",
    "plt.plot(n_run, t_serial, \"-o\", label = \"serial\")\n",
    "plt.plot(n_run, t_parallel, \"-o\", label = \"parallel\")\n",
    "plt.loglog()\n",
    "plt.legend()\n",
    "plt.ylabel(\"Execution time (s)\")\n",
    "plt.xlabel(\"Number of random points\")\n",
    "plt.show()"
   ]
  }
 ],
 "metadata": {
  "kernelspec": {
   "display_name": "Python 3",
   "language": "python",
   "name": "python3"
  },
  "language_info": {
   "codemirror_mode": {
    "name": "ipython",
    "version": 3
   },
   "file_extension": ".py",
   "mimetype": "text/x-python",
   "name": "python",
   "nbconvert_exporter": "python",
   "pygments_lexer": "ipython3",
   "version": "3.11.7"
  }
 },
 "nbformat": 4,
 "nbformat_minor": 2
}
